{
 "cells": [
  {
   "cell_type": "markdown",
   "metadata": {},
   "source": [
    "![title](sql_logo.PNG)"
   ]
  },
  {
   "cell_type": "markdown",
   "metadata": {},
   "source": [
    "When it comes to data storage, the word \"database\" often comes to mind,\n",
    "reason being that data are easily manage in a database. There are many\n",
    "engines we can use to work with databases in order to effectively performed \n",
    "tasks such as storing, updating, deleting and querying data in a database.\n",
    "\n",
    "**Two major category:**\n",
    "    \n",
    "    * Structural Query Language (SQL)\n",
    "    * Non Structural Query Language (NoSQL)\n",
    "    \n",
    "**SQL databases:** They are table based database and have pre-defined schema.\n",
    "    \n",
    "**NoSQl databases:** They are document based with key-value paired format of storing data (JSON).\n",
    "                They have dynamic schemas for unstructured data.\n",
    "                \n",
    "***In this notebook we will briefly go over some syntax in SQL (Mysql) and NoSql (Elasticsearch).***"
   ]
  },
  {
   "cell_type": "markdown",
   "metadata": {},
   "source": [
    "### Note!!\n",
    "Before we get started we first need to run the sql server for MYsql.<br>\n",
    "in our case we are using Xampp, from Xampp we turned on Mysql server.<br>\n",
    "We can now make connection with the sql server from Python environment."
   ]
  },
  {
   "cell_type": "code",
   "execution_count": 3,
   "metadata": {},
   "outputs": [],
   "source": [
    "# Import sqlalchemy \n",
    "from sqlalchemy import create_engine"
   ]
  },
  {
   "cell_type": "markdown",
   "metadata": {},
   "source": [
    "## Create connection to the SQL database"
   ]
  },
  {
   "cell_type": "code",
   "execution_count": 4,
   "metadata": {},
   "outputs": [
    {
     "name": "stdout",
     "output_type": "stream",
     "text": [
      "connceted to mysql database\n"
     ]
    }
   ],
   "source": [
    "try:\n",
    "    # Create an engine to the census database\n",
    "    engine = create_engine(\"mysql+pymysql://'root':@localhost:3306/first database\")\n",
    "    connection = engine.connect()\n",
    "    # Print the table names\n",
    "    print('connceted to mysql database')\n",
    "except:\n",
    "    print('not connected!')\n",
    "\n"
   ]
  },
  {
   "cell_type": "markdown",
   "metadata": {},
   "source": [
    "### View  list of tables in the connected database"
   ]
  },
  {
   "cell_type": "code",
   "execution_count": 5,
   "metadata": {},
   "outputs": [
    {
     "data": {
      "text/plain": [
       "['customer_order', 'don_rn', 'ukconsumption']"
      ]
     },
     "execution_count": 5,
     "metadata": {},
     "output_type": "execute_result"
    }
   ],
   "source": [
    "engine.table_names()"
   ]
  },
  {
   "cell_type": "markdown",
   "metadata": {},
   "source": [
    "### Select Table (ukconsumption) and View  schema "
   ]
  },
  {
   "cell_type": "code",
   "execution_count": 6,
   "metadata": {},
   "outputs": [],
   "source": [
    "from sqlalchemy import Table, MetaData"
   ]
  },
  {
   "cell_type": "code",
   "execution_count": 8,
   "metadata": {},
   "outputs": [
    {
     "name": "stdout",
     "output_type": "stream",
     "text": [
      "Table('ukconsumption', MetaData(bind=None), Column('Country', VARCHAR(length=9), table=<ukconsumption>), Column('AlcDrinks', INTEGER(display_width=3), table=<ukconsumption>), Column('Beverages', INTEGER(display_width=2), table=<ukconsumption>), Column('CarcaseMeat', INTEGER(display_width=3), table=<ukconsumption>), Column('Cereals', INTEGER(display_width=4), table=<ukconsumption>), Column('Cheese', INTEGER(display_width=3), table=<ukconsumption>), Column('Confectionery', INTEGER(display_width=2), table=<ukconsumption>), Column('FatsOils', INTEGER(display_width=3), table=<ukconsumption>), Column('Fish', INTEGER(display_width=3), table=<ukconsumption>), Column('FreshFruit', INTEGER(display_width=4), table=<ukconsumption>), Column('FreshPot', INTEGER(display_width=4), table=<ukconsumption>), Column('FreshVeg', INTEGER(display_width=3), table=<ukconsumption>), Column('OtherMeat', INTEGER(display_width=3), table=<ukconsumption>), Column('OtherVeg', INTEGER(display_width=3), table=<ukconsumption>), Column('ProcPot', INTEGER(display_width=3), table=<ukconsumption>), Column('ProcVeg', INTEGER(display_width=3), table=<ukconsumption>), Column('SoftDrinks', INTEGER(display_width=4), table=<ukconsumption>), Column('Sugars', INTEGER(display_width=3), table=<ukconsumption>), schema=None)\n"
     ]
    }
   ],
   "source": [
    "metadata = MetaData()\n",
    "table_data = Table('ukconsumption',metadata, autoload = True,autoload_with = engine)\n",
    "\n",
    "print(repr(table_data))"
   ]
  },
  {
   "cell_type": "markdown",
   "metadata": {},
   "source": [
    "### Simple SQL query"
   ]
  },
  {
   "cell_type": "code",
   "execution_count": 9,
   "metadata": {},
   "outputs": [
    {
     "data": {
      "text/plain": [
       "[('England', 375, 57, 245, 1472, 105, 54, 193, 147, 1102, 720, 253, 685, 488, 198, 360, 1374, 156),\n",
       " ('N.Ireland', 135, 47, 267, 1494, 66, 41, 209, 93, 674, 1033, 143, 586, 355, 187, 334, 1506, 139),\n",
       " ('Scotland', 458, 53, 242, 1462, 103, 62, 184, 122, 957, 566, 171, 750, 418, 220, 337, 1572, 139),\n",
       " ('Wales', 475, 73, 227, 1582, 103, 64, 235, 160, 1137, 874, 265, 803, 570, 203, 365, 1256, 175)]"
      ]
     },
     "execution_count": 9,
     "metadata": {},
     "output_type": "execute_result"
    }
   ],
   "source": [
    "query = 'SELECT * FROM ukconsumption'\n",
    "sql_object = connection.execute(query)\n",
    "sql_object.fetchall()"
   ]
  },
  {
   "cell_type": "code",
   "execution_count": null,
   "metadata": {},
   "outputs": [],
   "source": []
  },
  {
   "cell_type": "code",
   "execution_count": null,
   "metadata": {},
   "outputs": [],
   "source": []
  },
  {
   "cell_type": "markdown",
   "metadata": {},
   "source": [
    "![title](elasticsearch_logo.PNG)"
   ]
  },
  {
   "cell_type": "markdown",
   "metadata": {},
   "source": [
    "### Note!!\n",
    "Before we get started we first need to run the ElasticSearch server in our local device.<br>\n",
    "We can now make connection with the ElasticSearch server from Python environment."
   ]
  },
  {
   "cell_type": "markdown",
   "metadata": {},
   "source": [
    "## Create index"
   ]
  },
  {
   "cell_type": "code",
   "execution_count": 10,
   "metadata": {},
   "outputs": [
    {
     "data": {
      "text/plain": [
       "{'acknowledged': True, 'shards_acknowledged': True, 'index': 'my-index'}"
      ]
     },
     "execution_count": 10,
     "metadata": {},
     "output_type": "execute_result"
    }
   ],
   "source": [
    "from datetime import datetime\n",
    "from elasticsearch import Elasticsearch\n",
    "\n",
    "# by default we connect to localhost:9200\n",
    "es = Elasticsearch()\n",
    "\n",
    "# create an index in elasticsearch, ignore status code 400 (index already exists)\n",
    "es.indices.create(index='my-index', ignore=400)\n"
   ]
  },
  {
   "cell_type": "markdown",
   "metadata": {},
   "source": [
    "## Create index (test-index) and input a single record (doc)"
   ]
  },
  {
   "cell_type": "code",
   "execution_count": 95,
   "metadata": {},
   "outputs": [
    {
     "name": "stdout",
     "output_type": "stream",
     "text": [
      "created\n"
     ]
    }
   ],
   "source": [
    "doc = {\n",
    "    'author': 'kimchy',\n",
    "    'text': 'Elasticsearch: cool. bonsai cool.',\n",
    "    'timestamp': datetime.now(),\n",
    "}\n",
    "res = es.index(index=\"test-index\", id=1, body=doc)\n",
    "print(res['result'])"
   ]
  },
  {
   "cell_type": "markdown",
   "metadata": {},
   "source": [
    "## Retrieve data elasticsearch's index (test-index)"
   ]
  },
  {
   "cell_type": "code",
   "execution_count": 96,
   "metadata": {},
   "outputs": [
    {
     "name": "stdout",
     "output_type": "stream",
     "text": [
      "{'author': 'kimchy', 'text': 'Elasticsearch: cool. bonsai cool.', 'timestamp': '2020-09-03T21:46:16.944326'}\n"
     ]
    }
   ],
   "source": [
    "res = es.get(index=\"test-index\", id=1)\n",
    "print(res['_source'])"
   ]
  },
  {
   "cell_type": "markdown",
   "metadata": {},
   "source": [
    "## Create data in form of json or dictionary (documents)"
   ]
  },
  {
   "cell_type": "code",
   "execution_count": 3,
   "metadata": {},
   "outputs": [],
   "source": [
    "patients = {\n",
    "         \"Name\":{\"0\":\"John\",\"1\":\"Nick\",\"2\":\"Ali\",\"3\":\"Joseph\"},\n",
    "         \"Gender\":{\"0\":\"Male\",\"1\":\"Male\",\"2\":\"Female\",\"3\":\"Male\"},\n",
    "         \"Nationality\":{\"0\":\"UK\",\"1\":\"French\",\"2\":\"USA\",\"3\":\"Brazil\"},\n",
    "         \"Age\" :{\"0\":10,\"1\":25,\"2\":35,\"3\":29}\n",
    "}"
   ]
  },
  {
   "cell_type": "markdown",
   "metadata": {},
   "source": [
    "### View the json data in a Pandas table"
   ]
  },
  {
   "cell_type": "code",
   "execution_count": 186,
   "metadata": {
    "scrolled": true
   },
   "outputs": [
    {
     "data": {
      "text/html": [
       "<div>\n",
       "<style scoped>\n",
       "    .dataframe tbody tr th:only-of-type {\n",
       "        vertical-align: middle;\n",
       "    }\n",
       "\n",
       "    .dataframe tbody tr th {\n",
       "        vertical-align: top;\n",
       "    }\n",
       "\n",
       "    .dataframe thead th {\n",
       "        text-align: right;\n",
       "    }\n",
       "</style>\n",
       "<table border=\"1\" class=\"dataframe\">\n",
       "  <thead>\n",
       "    <tr style=\"text-align: right;\">\n",
       "      <th></th>\n",
       "      <th>Name</th>\n",
       "      <th>Gender</th>\n",
       "      <th>Nationality</th>\n",
       "      <th>Age</th>\n",
       "    </tr>\n",
       "  </thead>\n",
       "  <tbody>\n",
       "    <tr>\n",
       "      <th>0</th>\n",
       "      <td>John</td>\n",
       "      <td>Male</td>\n",
       "      <td>UK</td>\n",
       "      <td>10</td>\n",
       "    </tr>\n",
       "    <tr>\n",
       "      <th>1</th>\n",
       "      <td>Nick</td>\n",
       "      <td>Male</td>\n",
       "      <td>French</td>\n",
       "      <td>25</td>\n",
       "    </tr>\n",
       "    <tr>\n",
       "      <th>2</th>\n",
       "      <td>Ali</td>\n",
       "      <td>Female</td>\n",
       "      <td>USA</td>\n",
       "      <td>35</td>\n",
       "    </tr>\n",
       "    <tr>\n",
       "      <th>3</th>\n",
       "      <td>Joseph</td>\n",
       "      <td>Male</td>\n",
       "      <td>Brazil</td>\n",
       "      <td>29</td>\n",
       "    </tr>\n",
       "  </tbody>\n",
       "</table>\n",
       "</div>"
      ],
      "text/plain": [
       "     Name  Gender Nationality  Age\n",
       "0    John    Male          UK   10\n",
       "1    Nick    Male      French   25\n",
       "2     Ali  Female         USA   35\n",
       "3  Joseph    Male      Brazil   29"
      ]
     },
     "execution_count": 186,
     "metadata": {},
     "output_type": "execute_result"
    }
   ],
   "source": [
    "import pandas as pd\n",
    "data = pd.DataFrame(patients)\n",
    "data"
   ]
  },
  {
   "cell_type": "markdown",
   "metadata": {},
   "source": [
    "### Store documents into one id."
   ]
  },
  {
   "cell_type": "code",
   "execution_count": 13,
   "metadata": {},
   "outputs": [
    {
     "data": {
      "text/plain": [
       "(1, [])"
      ]
     },
     "execution_count": 13,
     "metadata": {},
     "output_type": "execute_result"
    }
   ],
   "source": [
    "actions =[\n",
    "    {\n",
    "        '_index': 'my-index',\n",
    "        '_type': 'product',\n",
    "        '_id': 2,\n",
    "        '_source': patients\n",
    "}\n",
    "]\n",
    "\n",
    "bulk(es,actions)"
   ]
  },
  {
   "cell_type": "markdown",
   "metadata": {},
   "source": [
    "### Store one document into one id."
   ]
  },
  {
   "cell_type": "code",
   "execution_count": 14,
   "metadata": {},
   "outputs": [
    {
     "data": {
      "text/plain": [
       "(1, [])"
      ]
     },
     "execution_count": 14,
     "metadata": {},
     "output_type": "execute_result"
    }
   ],
   "source": [
    "actions =[\n",
    "    {\n",
    "        '_index': 'my-index',\n",
    "        '_type': 'product',\n",
    "        '_id': 4,\n",
    "        '_source': {\"name\":\"victor\"}\n",
    "}\n",
    "]\n",
    "\n",
    "bulk(es,actions)"
   ]
  },
  {
   "cell_type": "markdown",
   "metadata": {},
   "source": [
    "## Create data to load into ElasticSearch"
   ]
  },
  {
   "cell_type": "code",
   "execution_count": 163,
   "metadata": {},
   "outputs": [],
   "source": [
    " cars = [\n",
    "        {\"car_Name\":\"Honda\", \"Price\": 10000, \"Model\":2005, \"Power\": 1300},\n",
    "        {\"car_Name\":\"Toyota\", \"Price\": 12000, \"Model\":2010, \"Power\": 1600},\n",
    "        {\"car_Name\":\"Audi\", \"Price\": 25000, \"Model\":2017, \"Power\": 1800},\n",
    "        {\"car_Name\":\"Ford\", \"Price\": 28000, \"Model\":2009, \"Power\": 1200},\n",
    "\n",
    "    ]"
   ]
  },
  {
   "cell_type": "markdown",
   "metadata": {},
   "source": [
    "### Load documents  through generator"
   ]
  },
  {
   "cell_type": "code",
   "execution_count": 179,
   "metadata": {},
   "outputs": [
    {
     "data": {
      "text/plain": [
       "(4, [])"
      ]
     },
     "execution_count": 179,
     "metadata": {},
     "output_type": "execute_result"
    }
   ],
   "source": [
    "def format_doc(json_list):\n",
    "    \n",
    "    for i,j in enumerate(json_list):\n",
    "        temp =  {\n",
    "            '_index': 'my-index',\n",
    "            '_type': '_doc',\n",
    "            '_id': i+10,\n",
    "            '_source': j\n",
    "        }\n",
    "        yield temp\n",
    "\n",
    "bulk(es,format_doc(cars))"
   ]
  },
  {
   "cell_type": "markdown",
   "metadata": {},
   "source": [
    "### Load documents through Iterable "
   ]
  },
  {
   "cell_type": "code",
   "execution_count": 180,
   "metadata": {},
   "outputs": [
    {
     "data": {
      "text/plain": [
       "(4, [])"
      ]
     },
     "execution_count": 180,
     "metadata": {},
     "output_type": "execute_result"
    }
   ],
   "source": [
    "actions =[\n",
    "    {\n",
    "        '_index': 'my-index',\n",
    "        '_type': '_doc',\n",
    "        '_id': i+10,\n",
    "        '_source': j\n",
    "}\n",
    "    \n",
    "for i,j in enumerate(cars)]\n",
    "\n",
    "#actions = iter(actions)\n",
    "bulk(es,actions)"
   ]
  },
  {
   "cell_type": "markdown",
   "metadata": {},
   "source": [
    "# Advance Elasticsearch (insert, delete and query) \n",
    "#Interraction with Pandas dataframe"
   ]
  },
  {
   "cell_type": "markdown",
   "metadata": {},
   "source": [
    "## Create index (House_Innovation)"
   ]
  },
  {
   "cell_type": "code",
   "execution_count": 3,
   "metadata": {},
   "outputs": [
    {
     "data": {
      "text/plain": [
       "{'error': {'root_cause': [{'type': 'resource_already_exists_exception',\n",
       "    'reason': 'index [house_innovation/CxZq1B-1SGK700Q9PudAhA] already exists',\n",
       "    'index_uuid': 'CxZq1B-1SGK700Q9PudAhA',\n",
       "    'index': 'house_innovation'}],\n",
       "  'type': 'resource_already_exists_exception',\n",
       "  'reason': 'index [house_innovation/CxZq1B-1SGK700Q9PudAhA] already exists',\n",
       "  'index_uuid': 'CxZq1B-1SGK700Q9PudAhA',\n",
       "  'index': 'house_innovation'},\n",
       " 'status': 400}"
      ]
     },
     "execution_count": 3,
     "metadata": {},
     "output_type": "execute_result"
    }
   ],
   "source": [
    "import pandas as pd\n",
    "from datetime import datetime\n",
    "from elasticsearch import Elasticsearch\n",
    "\n",
    "# by default we connect to localhost:9200\n",
    "es = Elasticsearch()\n",
    "\n",
    "# create an index in elasticsearch, ignore status code 400 (index already exists)\n",
    "es.indices.create(index='house_innovation', ignore=400)"
   ]
  },
  {
   "cell_type": "markdown",
   "metadata": {},
   "source": [
    "### Function to iterate pandas table records"
   ]
  },
  {
   "cell_type": "code",
   "execution_count": 273,
   "metadata": {},
   "outputs": [],
   "source": [
    "def data_to_doc(dataframe):\n",
    "     # dataframe row iterator (index,series of column : value)\n",
    "    for indx, col_val_map in dataframe.iterrows():\n",
    "        yield indx, col_val_map.to_dict() #convert to dictionary"
   ]
  },
  {
   "cell_type": "markdown",
   "metadata": {},
   "source": [
    "### Read data from pandas, pass it through the function (data_to_doc func)\n",
    "### and finally to ElasticSearch."
   ]
  },
  {
   "cell_type": "code",
   "execution_count": 274,
   "metadata": {},
   "outputs": [
    {
     "name": "stdout",
     "output_type": "stream",
     "text": [
      "True\n"
     ]
    },
    {
     "name": "stderr",
     "output_type": "stream",
     "text": [
      "C:\\Users\\VICTOR\\anaconda3\\envs\\elasticsearch\\lib\\site-packages\\elasticsearch\\connection\\base.py:177: ElasticsearchDeprecationWarning: [types removal] Specifying types in bulk requests is deprecated.\n",
      "  warnings.warn(message, category=ElasticsearchDeprecationWarning)\n"
     ]
    },
    {
     "name": "stdout",
     "output_type": "stream",
     "text": [
      "True\n"
     ]
    }
   ],
   "source": [
    "actions = []\n",
    "\n",
    "file_path = 'DATA/PurchaseData.csv'\n",
    "data = pd.read_csv(file_path, chunksize= 10050) #read data in chunks\n",
    "\n",
    "for df in data: # read each chunk\n",
    "    for i , j in data_to_doc(df): #iterate through data generator (index,dict)\n",
    "      \n",
    "        action = {\n",
    "            '_index' : 'house_innovation',     #format the data for elasticsearch\n",
    "            '_type'  : '_doc',\n",
    "            '_id'    : i,\n",
    "            '_source': j    \n",
    "        }\n",
    "        actions.append(action)   # add each action to a list \n",
    "        \n",
    "    print('True')\n",
    "    \n",
    "    bulk(es,actions)   # commit multiple input data to elasticsearch\n",
    "    "
   ]
  },
  {
   "cell_type": "markdown",
   "metadata": {},
   "source": [
    "### How to deleted index"
   ]
  },
  {
   "cell_type": "code",
   "execution_count": 271,
   "metadata": {},
   "outputs": [
    {
     "data": {
      "text/plain": [
       "{'acknowledged': True}"
      ]
     },
     "execution_count": 271,
     "metadata": {},
     "output_type": "execute_result"
    }
   ],
   "source": [
    "es.indices.delete(index='house_innovation')"
   ]
  },
  {
   "cell_type": "markdown",
   "metadata": {},
   "source": [
    "### How to query ElasticSearch Engine"
   ]
  },
  {
   "cell_type": "code",
   "execution_count": 94,
   "metadata": {},
   "outputs": [],
   "source": [
    "query_body = {'query':{'bool': {'must': {'match':{'ShopCode': 1}},\n",
    "              'filter': [{'match':{'Amount':800}},{'match':{'Month_To_Japan':2}}]\n",
    "                      }}}"
   ]
  },
  {
   "cell_type": "code",
   "execution_count": 92,
   "metadata": {},
   "outputs": [],
   "source": [
    "query_body = {'query': {'bool':{'must': [{'match':{'Amount':800}},{'match':{'Month_To_Japan':2}}]}}}"
   ]
  },
  {
   "cell_type": "markdown",
   "metadata": {},
   "source": [
    "### Search for match in  ElasticSearch engine and return result into Python environment"
   ]
  },
  {
   "cell_type": "code",
   "execution_count": 95,
   "metadata": {},
   "outputs": [],
   "source": [
    "res = es.search(body=query_body, index='house_innovation',doc_type='_doc')"
   ]
  },
  {
   "cell_type": "code",
   "execution_count": 96,
   "metadata": {},
   "outputs": [
    {
     "data": {
      "text/plain": [
       "{'total': {'value': 7, 'relation': 'eq'},\n",
       " 'max_score': 1.0,\n",
       " 'hits': [{'_index': 'house_innovation',\n",
       "   '_type': '_doc',\n",
       "   '_id': '58',\n",
       "   '_score': 1.0,\n",
       "   '_source': {'ID': 'KR90107',\n",
       "    'Month_To_Japan': 2,\n",
       "    'ShopCode': 1,\n",
       "    'ItemCode': 3,\n",
       "    'Amount': 800}},\n",
       "  {'_index': 'house_innovation',\n",
       "   '_type': '_doc',\n",
       "   '_id': '59',\n",
       "   '_score': 1.0,\n",
       "   '_source': {'ID': 'KR90107',\n",
       "    'Month_To_Japan': 2,\n",
       "    'ShopCode': 1,\n",
       "    'ItemCode': 3,\n",
       "    'Amount': 800}},\n",
       "  {'_index': 'house_innovation',\n",
       "   '_type': '_doc',\n",
       "   '_id': '65',\n",
       "   '_score': 1.0,\n",
       "   '_source': {'ID': 'KR40113',\n",
       "    'Month_To_Japan': 2,\n",
       "    'ShopCode': 1,\n",
       "    'ItemCode': 3,\n",
       "    'Amount': 800}},\n",
       "  {'_index': 'house_innovation',\n",
       "   '_type': '_doc',\n",
       "   '_id': '71',\n",
       "   '_score': 1.0,\n",
       "   '_source': {'ID': 'KR90123',\n",
       "    'Month_To_Japan': 2,\n",
       "    'ShopCode': 1,\n",
       "    'ItemCode': 3,\n",
       "    'Amount': 800}},\n",
       "  {'_index': 'house_innovation',\n",
       "   '_type': '_doc',\n",
       "   '_id': '75',\n",
       "   '_score': 1.0,\n",
       "   '_source': {'ID': 'KR70125',\n",
       "    'Month_To_Japan': 2,\n",
       "    'ShopCode': 1,\n",
       "    'ItemCode': 3,\n",
       "    'Amount': 800}},\n",
       "  {'_index': 'house_innovation',\n",
       "   '_type': '_doc',\n",
       "   '_id': '86',\n",
       "   '_score': 1.0,\n",
       "   '_source': {'ID': 'HK90137',\n",
       "    'Month_To_Japan': 2,\n",
       "    'ShopCode': 1,\n",
       "    'ItemCode': 3,\n",
       "    'Amount': 800}},\n",
       "  {'_index': 'house_innovation',\n",
       "   '_type': '_doc',\n",
       "   '_id': '88',\n",
       "   '_score': 1.0,\n",
       "   '_source': {'ID': 'TW70142',\n",
       "    'Month_To_Japan': 2,\n",
       "    'ShopCode': 1,\n",
       "    'ItemCode': 3,\n",
       "    'Amount': 800}}]}"
      ]
     },
     "execution_count": 96,
     "metadata": {},
     "output_type": "execute_result"
    }
   ],
   "source": [
    "res['hits']"
   ]
  },
  {
   "cell_type": "code",
   "execution_count": null,
   "metadata": {},
   "outputs": [],
   "source": []
  },
  {
   "cell_type": "code",
   "execution_count": null,
   "metadata": {},
   "outputs": [],
   "source": []
  },
  {
   "cell_type": "code",
   "execution_count": null,
   "metadata": {},
   "outputs": [],
   "source": []
  },
  {
   "cell_type": "code",
   "execution_count": null,
   "metadata": {},
   "outputs": [],
   "source": []
  }
 ],
 "metadata": {
  "kernelspec": {
   "display_name": "Python 3",
   "language": "python",
   "name": "python3"
  },
  "language_info": {
   "codemirror_mode": {
    "name": "ipython",
    "version": 3
   },
   "file_extension": ".py",
   "mimetype": "text/x-python",
   "name": "python",
   "nbconvert_exporter": "python",
   "pygments_lexer": "ipython3",
   "version": "3.7.6"
  }
 },
 "nbformat": 4,
 "nbformat_minor": 4
}
